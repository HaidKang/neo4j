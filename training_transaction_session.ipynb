{
 "cells": [
  {
   "cell_type": "code",
   "execution_count": 3,
   "metadata": {},
   "outputs": [],
   "source": [
    "from neo4j import GraphDatabase\n",
    "import os\n",
    "\n",
    "# Set up a neo4j driver instance\n",
    "uri = \"neo4j://35.226.169.213:7687\"\n",
    "username = \"neo4j\"\n",
    "password = \"neo4jtest\"\n",
    "driver = GraphDatabase.driver(uri, auth=(username, password))\n"
   ]
  },
  {
   "attachments": {},
   "cell_type": "markdown",
   "metadata": {},
   "source": [
    "### Session"
   ]
  },
  {
   "cell_type": "code",
   "execution_count": 1,
   "metadata": {},
   "outputs": [],
   "source": [
    "\n",
    "## open a new session\n",
    "# with driver.session() as session:\n",
    "\n",
    "## open a new session with additional arguemnts \n",
    "## dbms.default_database in neo4j.conf\n",
    "# with driver.session(database=\"neo4j\") as session:\n"
   ]
  },
  {
   "attachments": {},
   "cell_type": "markdown",
   "metadata": {},
   "source": [
    "### Transaction"
   ]
  },
  {
   "cell_type": "code",
   "execution_count": null,
   "metadata": {},
   "outputs": [],
   "source": [
    "# # Auto Commit Transactions\n",
    "# session.run(\n",
    "#         \"MATCH (p:Person {name: $name}) RETURN p\", # Query\n",
    "#     name=\"Tom Hanks\" # Named parameters referenced\n",
    "# )"
   ]
  },
  {
   "cell_type": "code",
   "execution_count": null,
   "metadata": {},
   "outputs": [],
   "source": [
    "# # Running a Read Transaction\n",
    "# # Define a Unit of work to run within a Transaction (`tx`)\n",
    "# def get_movies(tx, title):\n",
    "#     return tx.run(\"\"\"\n",
    "#         MATCH (p:Person)-[:ACTED_IN]->(m:Movie)\n",
    "#         WHERE m.title = $title // (1)\n",
    "#         RETURN p.name AS name\n",
    "#         LIMIT 10\n",
    "#     \"\"\", title=title)\n",
    "\n",
    "# # Execute get_movies within a Read Transaction\n",
    "# session.execute_read(get_movies,\n",
    "#     title=\"Arthur\" # (2)\n",
    "# )"
   ]
  },
  {
   "cell_type": "code",
   "execution_count": null,
   "metadata": {},
   "outputs": [],
   "source": [
    "# # Running a Write Transaction\n",
    "# # Call tx.run() to execute the query to create a Person node\n",
    "# def create_person(tx, name):\n",
    "#     return tx.run(\n",
    "#         \"CREATE (p:Person {name: $name})\",\n",
    "#         name=name\n",
    "#     )\n",
    "\n",
    "\n",
    "# # Execute the `create_person` \"unit of work\" within a write transaction\n",
    "# session.execute_write(create_person, name=\"Michael\")"
   ]
  },
  {
   "cell_type": "code",
   "execution_count": null,
   "metadata": {},
   "outputs": [],
   "source": [
    "# # Creating an Manual Transaction\n",
    "# with session.begin_transaction() as tx:\n",
    "#   try:\n",
    "#       # Run a query\n",
    "#       tx.run(query, **params)\n",
    "\n",
    "#       # Commit the transaction\n",
    "#       tx.commit()\n",
    "#   except:\n",
    "#       # If something goes wrong in the try block,\n",
    "#       # then rollback the transaction\n",
    "#       tx.rollback()"
   ]
  },
  {
   "cell_type": "code",
   "execution_count": null,
   "metadata": {},
   "outputs": [],
   "source": [
    "# # Closing a session\n",
    "# # Close the session\n",
    "# session.close()"
   ]
  },
  {
   "cell_type": "code",
   "execution_count": 4,
   "metadata": {},
   "outputs": [],
   "source": [
    "# Create a person node in the customs database\n",
    "def create_person_work(tx, name):\n",
    "    return tx.run(\"CREATE (p:Person {name: $name}) RETURN p\",\n",
    "        name=name).single()\n",
    "\n",
    "def create_person(name):\n",
    "    # Create a Session for the `neo4j` database\n",
    "    session = driver.session(database=\"neo4j\")\n",
    "\n",
    "    # Create a node within a write transaction\n",
    "    record = session.execute_write(create_person_work,\n",
    "                                    name=name)\n",
    "\n",
    "    # Get the `p` value from the first record\n",
    "    person = record[\"p\"]\n",
    "\n",
    "    # Close the session\n",
    "    session.close()\n",
    "\n",
    "    # Return the property from the node\n",
    "    return person[\"name\"]"
   ]
  },
  {
   "cell_type": "code",
   "execution_count": 5,
   "metadata": {},
   "outputs": [
    {
     "data": {
      "text/plain": [
       "'KKM'"
      ]
     },
     "execution_count": 5,
     "metadata": {},
     "output_type": "execute_result"
    }
   ],
   "source": [
    "create_person('KKM')"
   ]
  }
 ],
 "metadata": {
  "kernelspec": {
   "display_name": "base",
   "language": "python",
   "name": "python3"
  },
  "language_info": {
   "codemirror_mode": {
    "name": "ipython",
    "version": 3
   },
   "file_extension": ".py",
   "mimetype": "text/x-python",
   "name": "python",
   "nbconvert_exporter": "python",
   "pygments_lexer": "ipython3",
   "version": "3.9.16"
  },
  "orig_nbformat": 4
 },
 "nbformat": 4,
 "nbformat_minor": 2
}
