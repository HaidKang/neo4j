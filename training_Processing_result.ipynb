{
 "cells": [
  {
   "cell_type": "code",
   "execution_count": 1,
   "metadata": {},
   "outputs": [],
   "source": [
    "# https://graphacademy.neo4j.com/courses/app-python/2-interacting/2-results/\n",
    "\n",
    "from neo4j import GraphDatabase\n",
    "import os\n",
    "\n",
    "# Set up a neo4j driver instance\n",
    "uri = \"neo4j://35.226.169.213:7687\"\n",
    "username = \"neo4j\"\n",
    "password = \"neo4jtest\"\n",
    "driver = GraphDatabase.driver(uri, auth=(username, password))"
   ]
  },
  {
   "cell_type": "code",
   "execution_count": 19,
   "metadata": {},
   "outputs": [
    {
     "name": "stdout",
     "output_type": "stream",
     "text": [
      "<Record p=<Node element_id='4:df5bea23-5ef6-42e6-8ad8-95e3bc16d3b8:222' labels=frozenset({'Person'}) properties={'born': 1959, 'name': 'Patricia Clarkson'}>>\n",
      "['p']\n",
      "test2 : [<Node element_id='4:df5bea23-5ef6-42e6-8ad8-95e3bc16d3b8:222' labels=frozenset({'Person'}) properties={'born': 1959, 'name': 'Patricia Clarkson'}>, <Node element_id='4:df5bea23-5ef6-42e6-8ad8-95e3bc16d3b8:220' labels=frozenset({'Person'}) properties={'born': 1968, 'name': 'Sam Rockwell'}>, <Node element_id='4:df5bea23-5ef6-42e6-8ad8-95e3bc16d3b8:218' labels=frozenset({'Person'}) properties={'born': 1957, 'name': 'Michael Clarke Duncan'}>, <Node element_id='4:df5bea23-5ef6-42e6-8ad8-95e3bc16d3b8:221' labels=frozenset({'Person'}) properties={'born': 1955, 'name': 'Gary Sinise'}>, <Node element_id='4:df5bea23-5ef6-42e6-8ad8-95e3bc16d3b8:219' labels=frozenset({'Person'}) properties={'born': 1953, 'name': 'David Morse'}>]\n",
      "test3: <Node element_id='4:df5bea23-5ef6-42e6-8ad8-95e3bc16d3b8:222' labels=frozenset({'Person'}) properties={'born': 1959, 'name': 'Patricia Clarkson'}>\n",
      "test4: None\n",
      "test3: <Node element_id='4:df5bea23-5ef6-42e6-8ad8-95e3bc16d3b8:220' labels=frozenset({'Person'}) properties={'born': 1968, 'name': 'Sam Rockwell'}>\n",
      "test4: None\n",
      "test3: <Node element_id='4:df5bea23-5ef6-42e6-8ad8-95e3bc16d3b8:218' labels=frozenset({'Person'}) properties={'born': 1957, 'name': 'Michael Clarke Duncan'}>\n",
      "test4: None\n",
      "test3: <Node element_id='4:df5bea23-5ef6-42e6-8ad8-95e3bc16d3b8:221' labels=frozenset({'Person'}) properties={'born': 1955, 'name': 'Gary Sinise'}>\n",
      "test4: None\n",
      "test3: <Node element_id='4:df5bea23-5ef6-42e6-8ad8-95e3bc16d3b8:219' labels=frozenset({'Person'}) properties={'born': 1953, 'name': 'David Morse'}>\n",
      "test4: None\n"
     ]
    }
   ],
   "source": [
    "# Get Actors by Movie title\n",
    "\n",
    "# Unit of work\n",
    "def get_actors(tx, movie): # (1)\n",
    "    result = tx.run(\"\"\"\n",
    "        MATCH (p:Person)-[:ACTED_IN]->(:Movie {title: $title})\n",
    "        RETURN p\n",
    "    \"\"\", title=movie)\n",
    "\n",
    "    # Peeking at Result\n",
    "    peek = result.peek()\n",
    "    print(peek)\n",
    "\n",
    "    # Get Keys\n",
    "    print(\"test0: \", result.keys())\n",
    "    # result_test = result\n",
    "\n",
    "    # for record_test in result_test:\n",
    "    #     print(\"test:\" ,record_test[\"p\"])\n",
    "\n",
    "    # Access the `p` value from each record\n",
    "    return [ record[\"p\"] for record in result ]"
   ]
  },
  {
   "cell_type": "code",
   "execution_count": 24,
   "metadata": {},
   "outputs": [],
   "source": [
    "# Extract a value\n",
    "def get_actors_value(tx, movie):\n",
    "    result = tx.run(\"\"\"\n",
    "        MATCH (p:Person)-[r:ACTED_IN]->(m:Movie {title: $title})\n",
    "        RETURN p.name AS name, m.title AS title, r.roles AS roles\n",
    "    \"\"\", title=movie)\n",
    "\n",
    "    return result.value(\"name\", False)\n",
    "    # Returns the `name` value, or False if unavailable\n"
   ]
  },
  {
   "cell_type": "code",
   "execution_count": 39,
   "metadata": {},
   "outputs": [],
   "source": [
    "def get_actors_values(tx, movie):\n",
    "    result = tx.run(\"\"\"\n",
    "        MATCH (p:Person)-[r:ACTED_IN]->(m:Movie {title: $title})\n",
    "        RETURN p.name AS name, m.title AS title, r.roles AS roles\n",
    "    \"\"\", title=movie)\n",
    "\n",
    "    print(\"test0:\", result.keys())\n",
    "\n",
    "    return result.values(\"name\", \"title\", \"roles\")"
   ]
  },
  {
   "cell_type": "code",
   "execution_count": 41,
   "metadata": {},
   "outputs": [],
   "source": [
    "# Single Result  \n",
    "# If you only expect a single record, you can use the single() method on the result to return the first record.\n",
    "def get_actors_single(tx, movie):\n",
    "    result = tx.run(\"\"\"\n",
    "        MATCH (p:Person)-[:ACTED_IN]->(:Movie {title: $title})\n",
    "        RETURN p\n",
    "    \"\"\", title=movie)\n",
    "\n",
    "    return result.single()"
   ]
  },
  {
   "cell_type": "code",
   "execution_count": 42,
   "metadata": {},
   "outputs": [
    {
     "name": "stdout",
     "output_type": "stream",
     "text": [
      "test2 : <Record p=<Node element_id='4:df5bea23-5ef6-42e6-8ad8-95e3bc16d3b8:222' labels=frozenset({'Person'}) properties={'born': 1959, 'name': 'Patricia Clarkson'}>>\n",
      "test3: <Node element_id='4:df5bea23-5ef6-42e6-8ad8-95e3bc16d3b8:222' labels=frozenset({'Person'}) properties={'born': 1959, 'name': 'Patricia Clarkson'}>\n"
     ]
    },
    {
     "name": "stderr",
     "output_type": "stream",
     "text": [
      "c:\\Users\\haid\\anaconda3\\lib\\site-packages\\neo4j\\_sync\\work\\result.py:465: UserWarning: Expected a result with a single record, but found multiple.\n",
      "  warn(\"Expected a result with a single record, \"\n"
     ]
    }
   ],
   "source": [
    "# Open a Session\n",
    "with driver.session() as session:\n",
    "    # Run the unit of work within a Read Transaction\n",
    "    # actors = session.execute_read(get_actors, movie=\"The Green Mile\") # Get Actors    ==> 잘 이해가 안된다\n",
    "    # actors = session.execute_read(get_actors_value, movie=\"The Green Mile\") # Get value\n",
    "    # actors = session.execute_read(get_actors_values, movie=\"The Green Mile\") # Get values\n",
    "    actors = session.execute_read(get_actors_single, movie=\"The Green Mile\") # Get single\n",
    "    \n",
    "    print(\"test2 :\",  actors)\n",
    "\n",
    "    for record in actors:\n",
    "        print(\"test3:\", record)\n",
    "        # print(\"test4:\", record[\"p\"])    # Get Actors\n",
    "\n",
    "    session.close()"
   ]
  },
  {
   "cell_type": "code",
   "execution_count": 45,
   "metadata": {},
   "outputs": [],
   "source": [
    "## consume 은 사용 방법을 몰라서 Test 를 해 보지 못했다.\n",
    "\n",
    "def get_actors_consume(tx, name):\n",
    "    result = tx.run(\"\"\"\n",
    "        MERGE (p:Person {name: $name})\n",
    "        RETURN p\n",
    "    \"\"\", name=name)\n",
    "\n",
    "    info = result.consume()\n",
    "\n",
    "    # The time it took for the server to have the result available. (milliseconds)\n",
    "    print(\"test_info1: \", info.result_available_after)\n",
    "\n",
    "    # The time it took for the server to consume the result. (milliseconds)\n",
    "    print(\"test_info2: \", info.result_consumed_after)\n",
    "\n",
    "def create_person(name):\n",
    "    # Create a Session for the `neo4j` database\n",
    "    session = driver.session(database=\"neo4j\")\n",
    "\n",
    "    # Create a node within a write transaction\n",
    "    record = session.execute_write(get_actors_consume, name=name)\n",
    "\n",
    "    # Get the `p` value from the first record\n",
    "    person = record[\"p\"]\n",
    "    print(person)\n",
    "\n",
    "    # Close the session\n",
    "    session.close()\n",
    "\n"
   ]
  },
  {
   "cell_type": "code",
   "execution_count": 46,
   "metadata": {},
   "outputs": [
    {
     "name": "stdout",
     "output_type": "stream",
     "text": [
      "test_info1:  16\n",
      "test_info2:  5\n"
     ]
    },
    {
     "ename": "TypeError",
     "evalue": "'NoneType' object is not subscriptable",
     "output_type": "error",
     "traceback": [
      "\u001b[1;31m---------------------------------------------------------------------------\u001b[0m",
      "\u001b[1;31mTypeError\u001b[0m                                 Traceback (most recent call last)",
      "\u001b[1;32m~\\AppData\\Local\\Temp\\ipykernel_17624\\2886616647.py\u001b[0m in \u001b[0;36m<module>\u001b[1;34m\u001b[0m\n\u001b[1;32m----> 1\u001b[1;33m \u001b[0mcreate_person\u001b[0m\u001b[1;33m(\u001b[0m\u001b[1;34m\"KM Kang\"\u001b[0m\u001b[1;33m)\u001b[0m\u001b[1;33m\u001b[0m\u001b[1;33m\u001b[0m\u001b[0m\n\u001b[0m",
      "\u001b[1;32m~\\AppData\\Local\\Temp\\ipykernel_17624\\798691691.py\u001b[0m in \u001b[0;36mcreate_person\u001b[1;34m(name)\u001b[0m\n\u001b[0;32m     23\u001b[0m \u001b[1;33m\u001b[0m\u001b[0m\n\u001b[0;32m     24\u001b[0m     \u001b[1;31m# Get the `p` value from the first record\u001b[0m\u001b[1;33m\u001b[0m\u001b[1;33m\u001b[0m\u001b[0m\n\u001b[1;32m---> 25\u001b[1;33m     \u001b[0mperson\u001b[0m \u001b[1;33m=\u001b[0m \u001b[0mrecord\u001b[0m\u001b[1;33m[\u001b[0m\u001b[1;34m\"p\"\u001b[0m\u001b[1;33m]\u001b[0m\u001b[1;33m\u001b[0m\u001b[1;33m\u001b[0m\u001b[0m\n\u001b[0m\u001b[0;32m     26\u001b[0m     \u001b[0mprint\u001b[0m\u001b[1;33m(\u001b[0m\u001b[0mperson\u001b[0m\u001b[1;33m)\u001b[0m\u001b[1;33m\u001b[0m\u001b[1;33m\u001b[0m\u001b[0m\n\u001b[0;32m     27\u001b[0m \u001b[1;33m\u001b[0m\u001b[0m\n",
      "\u001b[1;31mTypeError\u001b[0m: 'NoneType' object is not subscriptable"
     ]
    }
   ],
   "source": [
    "create_person(\"KM Kang\")"
   ]
  }
 ],
 "metadata": {
  "kernelspec": {
   "display_name": "base",
   "language": "python",
   "name": "python3"
  },
  "language_info": {
   "codemirror_mode": {
    "name": "ipython",
    "version": 3
   },
   "file_extension": ".py",
   "mimetype": "text/x-python",
   "name": "python",
   "nbconvert_exporter": "python",
   "pygments_lexer": "ipython3",
   "version": "3.9.16"
  },
  "orig_nbformat": 4
 },
 "nbformat": 4,
 "nbformat_minor": 2
}
